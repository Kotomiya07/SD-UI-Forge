{
  "nbformat": 4,
  "nbformat_minor": 0,
  "metadata": {
    "colab": {
      "provenance": [],
      "gpuType": "T4",
      "authorship_tag": "ABX9TyNWq/Oxbq1GwWGJzyZpN2LY",
      "include_colab_link": true
    },
    "kernelspec": {
      "name": "python3",
      "display_name": "Python 3"
    },
    "language_info": {
      "name": "python"
    },
    "accelerator": "GPU"
  },
  "cells": [
    {
      "cell_type": "markdown",
      "metadata": {
        "id": "view-in-github",
        "colab_type": "text"
      },
      "source": [
        "<a href=\"https://colab.research.google.com/github/Kotomiya07/SD-UI-Forge/blob/main/notebooks/SD_UI_Forge_Colab.ipynb\" target=\"_parent\"><img src=\"https://colab.research.google.com/assets/colab-badge.svg\" alt=\"Open In Colab\"/></a>"
      ]
    },
    {
      "cell_type": "code",
      "source": [
        "#@title Environment Setup\n",
        "\n",
        "from pathlib import Path\n",
        "\n",
        "OPTIONS = {}\n",
        "\n",
        "USE_GOOGLE_DRIVE = True  #@param {type:\"boolean\"}\n",
        "UPDATE_UI = False  #@param {type:\"boolean\"}\n",
        "WORKSPACE = 'SD-UI-Forge'\n",
        "OPTIONS['USE_GOOGLE_DRIVE'] = USE_GOOGLE_DRIVE\n",
        "OPTIONS['UPDATE_UI'] = UPDATE_UI\n",
        "\n",
        "if OPTIONS['USE_GOOGLE_DRIVE']:\n",
        "    !echo \"Mounting Google Drive...\"\n",
        "    %cd /\n",
        "\n",
        "    from google.colab import drive\n",
        "    drive.mount('/content/drive')\n",
        "\n",
        "    WORKSPACE = \"/content/SD-UI-Forge\"\n",
        "    %cd /content\n",
        "\n",
        "![ ! -d WORKSPACE ] && echo -= Initial setup SD-UI-Forge =- && git clone https://github.com/Kotomiya07/SD-UI-Forge.git\n",
        "!mkdir /content/SD-UI-Forge/output\n",
        "%cd /content/drive/MyDrive\n",
        "!ln -s /content/SD-UI-Forge/output output\n",
        "%cd $WORKSPACE\n",
        "\n",
        "if OPTIONS['UPDATE_UI']:\n",
        "  !echo -= Updating SD_UI =-\n",
        "  !git pull"
      ],
      "metadata": {
        "colab": {
          "base_uri": "https://localhost:8080/"
        },
        "cellView": "form",
        "id": "6QY7gU8ax930",
        "outputId": "ab90ea45-d3e1-479c-93ce-48943f40cbce"
      },
      "execution_count": 1,
      "outputs": [
        {
          "output_type": "stream",
          "name": "stdout",
          "text": [
            "Mounting Google Drive...\n",
            "/\n",
            "Mounted at /content/drive\n",
            "/content\n",
            "-= Initial setup SD-UI-Forge =-\n",
            "Cloning into 'SD-UI-Forge'...\n",
            "remote: Enumerating objects: 1706, done.\u001b[K\n",
            "remote: Counting objects: 100% (1706/1706), done.\u001b[K\n",
            "remote: Compressing objects: 100% (1398/1398), done.\u001b[K\n",
            "remote: Total 1706 (delta 266), reused 1674 (delta 237), pack-reused 0\u001b[K\n",
            "Receiving objects: 100% (1706/1706), 4.71 MiB | 20.36 MiB/s, done.\n",
            "Resolving deltas: 100% (266/266), done.\n",
            "/content/drive/MyDrive\n",
            "/content/SD-UI-Forge\n"
          ]
        }
      ]
    },
    {
      "cell_type": "code",
      "source": [
        "#@title Run UI\n",
        "\n",
        "!echo -= Launch UI =-\n",
        "!python launch.py --share --xformers"
      ],
      "metadata": {
        "cellView": "form",
        "id": "5hTGBaag2z1g"
      },
      "execution_count": null,
      "outputs": []
    }
  ]
}