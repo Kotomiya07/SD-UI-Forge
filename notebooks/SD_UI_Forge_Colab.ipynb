{
  "nbformat": 4,
  "nbformat_minor": 0,
  "metadata": {
    "colab": {
      "provenance": [],
      "gpuType": "T4",
      "authorship_tag": "ABX9TyOTKKcJqkU57lGHF5zXc6jI",
      "include_colab_link": true
    },
    "kernelspec": {
      "name": "python3",
      "display_name": "Python 3"
    },
    "language_info": {
      "name": "python"
    },
    "accelerator": "GPU"
  },
  "cells": [
    {
      "cell_type": "markdown",
      "metadata": {
        "id": "view-in-github",
        "colab_type": "text"
      },
      "source": [
        "<a href=\"https://colab.research.google.com/github/Kotomiya07/SD-UI-Forge/blob/main/notebooks/SD_UI_Forge_Colab.ipynb\" target=\"_parent\"><img src=\"https://colab.research.google.com/assets/colab-badge.svg\" alt=\"Open In Colab\"/></a>"
      ]
    },
    {
      "cell_type": "code",
      "source": [
        "#@title セットアップ\n",
        "\n",
        "from pathlib import Path\n",
        "\n",
        "OPTIONS = {}\n",
        "\n",
        "USE_GOOGLE_DRIVE = True  #@param {type:\"boolean\"}\n",
        "UPDATE_UI = False  #@param {type:\"boolean\"}\n",
        "WORKSPACE = 'SD-UI-Forge'\n",
        "OPTIONS['USE_GOOGLE_DRIVE'] = USE_GOOGLE_DRIVE\n",
        "OPTIONS['UPDATE_UI'] = UPDATE_UI\n",
        "\n",
        "if OPTIONS['USE_GOOGLE_DRIVE']:\n",
        "    !echo \"Mounting Google Drive...\"\n",
        "    %cd /\n",
        "\n",
        "    from google.colab import drive\n",
        "    drive.mount('/content/drive')\n",
        "\n",
        "    WORKSPACE = \"/content/drive/MyDrive/SD-UI-Forge\"\n",
        "    %cd /content/drive/MyDrive\n",
        "\n",
        "![ ! -d WORKSPACE ] && echo -= Initial setup SD-UI-Forge =- && git clone https://github.com/Kotomiya07/SD-UI-Forge.git\n",
        "%cd $WORKSPACE\n",
        "\n",
        "if OPTIONS['UPDATE_UI']:\n",
        "  !echo -= Updating SD_UI =-\n",
        "  !git pull\n",
        "\n",
        "!echo -= Launch UI =-\n",
        "!python launch.py --share --xformers"
      ],
      "metadata": {
        "id": "6QY7gU8ax930"
      },
      "execution_count": null,
      "outputs": []
    }
  ]
}