{
  "nbformat": 4,
  "nbformat_minor": 0,
  "metadata": {
    "colab": {
      "provenance": [],
      "gpuType": "T4",
      "authorship_tag": "ABX9TyME1j9q9dzO/ECM2NULGj0c",
      "include_colab_link": true
    },
    "kernelspec": {
      "name": "python3",
      "display_name": "Python 3"
    },
    "language_info": {
      "name": "python"
    },
    "accelerator": "GPU"
  },
  "cells": [
    {
      "cell_type": "markdown",
      "metadata": {
        "id": "view-in-github",
        "colab_type": "text"
      },
      "source": [
        "<a href=\"https://colab.research.google.com/github/Kotomiya07/SD-UI-Forge/blob/main/notebooks/SD_UI_Forge_Colab.ipynb\" target=\"_parent\"><img src=\"https://colab.research.google.com/assets/colab-badge.svg\" alt=\"Open In Colab\"/></a>"
      ]
    },
    {
      "cell_type": "code",
      "source": [
        "#@title Environment Setup\n",
        "\n",
        "from pathlib import Path\n",
        "\n",
        "OPTIONS = {}\n",
        "\n",
        "USE_GOOGLE_DRIVE = True  #@param {type:\"boolean\"}\n",
        "UPDATE_UI = False  #@param {type:\"boolean\"}\n",
        "WORKSPACE = 'SD-UI-Forge'\n",
        "OPTIONS['USE_GOOGLE_DRIVE'] = USE_GOOGLE_DRIVE\n",
        "OPTIONS['UPDATE_UI'] = UPDATE_UI\n",
        "\n",
        "if OPTIONS['USE_GOOGLE_DRIVE']:\n",
        "    !echo \"Mounting Google Drive...\"\n",
        "    %cd /\n",
        "\n",
        "    from google.colab import drive\n",
        "    drive.mount('/content/drive')\n",
        "\n",
        "    WORKSPACE = \"/content/drive/MyDrive/SD-UI-Forge\"\n",
        "    %cd /content/drive/MyDrive\n",
        "\n",
        "![ ! -d WORKSPACE ] && echo -= Initial setup SD-UI-Forge =- && git clone https://github.com/Kotomiya07/SD-UI-Forge.git\n",
        "%cd $WORKSPACE\n",
        "\n",
        "if OPTIONS['UPDATE_UI']:\n",
        "  !echo -= Updating SD_UI =-\n",
        "  !git pull"
      ],
      "metadata": {
        "colab": {
          "base_uri": "https://localhost:8080/"
        },
        "id": "6QY7gU8ax930",
        "outputId": "663014f7-67d7-44ce-d2d7-7ec9016ee76b",
        "cellView": "form"
      },
      "execution_count": 1,
      "outputs": [
        {
          "output_type": "stream",
          "name": "stdout",
          "text": [
            "Mounting Google Drive...\n",
            "/\n",
            "Mounted at /content/drive\n",
            "/content/drive/MyDrive\n",
            "-= Initial setup SD-UI-Forge =-\n",
            "fatal: destination path 'SD-UI-Forge' already exists and is not an empty directory.\n",
            "/content/drive/MyDrive/SD-UI-Forge\n"
          ]
        }
      ]
    },
    {
      "cell_type": "code",
      "source": [
        "#@title Run UI\n",
        "\n",
        "!echo -= Launch UI =-\n",
        "!python launch.py --share --xformers"
      ],
      "metadata": {
        "id": "5hTGBaag2z1g",
        "colab": {
          "base_uri": "https://localhost:8080/"
        },
        "outputId": "8a497a45-b681-42e1-9e69-61105c08a82c"
      },
      "execution_count": 3,
      "outputs": [
        {
          "output_type": "stream",
          "name": "stdout",
          "text": [
            "-= Launch UI =-\n",
            "fatal: No names found, cannot describe anything.\n",
            "Python 3.10.12 (main, Nov 20 2023, 15:14:05) [GCC 11.4.0]\n",
            "Version: f0.0.10-<none>\n",
            "Commit hash: 14d438ac3c1ea6e25bccaaac0473a0cd11a0164c\n",
            "Traceback (most recent call last):\n",
            "  File \"/content/drive/MyDrive/SD-UI-Forge/launch.py\", line 48, in <module>\n",
            "    main()\n",
            "  File \"/content/drive/MyDrive/SD-UI-Forge/launch.py\", line 39, in main\n",
            "    prepare_environment()\n",
            "  File \"/content/drive/MyDrive/SD-UI-Forge/modules/launch_utils.py\", line 429, in prepare_environment\n",
            "    raise RuntimeError(\n",
            "RuntimeError: Torch is not able to use GPU; add --skip-torch-cuda-test to COMMANDLINE_ARGS variable to disable this check\n"
          ]
        }
      ]
    },
    {
      "cell_type": "code",
      "source": [
        "!git -C \"/content/drive/MyDrive/SD-UI-Forge/repositories/k-diffusion\" checkout --force 5b3af030dd83e0297272d861c19477735d0317ec"
      ],
      "metadata": {
        "colab": {
          "base_uri": "https://localhost:8080/"
        },
        "id": "sLyoRVstail6",
        "outputId": "472e9f0e-e97f-449f-8e33-74aaa962987f"
      },
      "execution_count": 7,
      "outputs": [
        {
          "output_type": "stream",
          "name": "stdout",
          "text": [
            "HEAD is now at 5b3af03 Release 0.0.12\n"
          ]
        }
      ]
    },
    {
      "cell_type": "markdown",
      "source": [
        "# TODO モデルダウンロード機能"
      ],
      "metadata": {
        "id": "eOiD8ofy9rfa"
      }
    },
    {
      "cell_type": "code",
      "source": [
        "/content/SD-UI-Forge/models/SD"
      ],
      "metadata": {
        "id": "2SDqgsuj9nco"
      },
      "execution_count": null,
      "outputs": []
    }
  ]
}